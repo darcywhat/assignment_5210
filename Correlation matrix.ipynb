{
 "cells": [
  {
   "cell_type": "code",
   "execution_count": null,
   "metadata": {},
   "outputs": [],
   "source": [
    "\n",
    "equ = EquFactorAf(bic, sb, ac)\n",
    "\n",
    "# 计算各个因子\n",
    "profit_wind = equ.Con_Profit_Wind()\n",
    "eps_wind = equ.Con_EPS_Wind()\n",
    "income_wind = equ.Con_Income_Wind()\n",
    "profit_weighted = equ.Con_Profit_weighted()\n",
    "eps_weighted = equ.Con_EPS_weighted()\n",
    "income_weighted = equ.Con_Income_weighted()\n",
    "\n",
    "\n",
    "df_factors = pd.DataFrame({\n",
    "    'profit_wind': profit_wind,\n",
    "    'eps_wind': eps_wind,\n",
    "    'income_wind': income_wind,\n",
    "    'profit_weighted': profit_weighted,\n",
    "    'eps_weighted': eps_weighted,\n",
    "    'income_weighted': income_weighted,\n",
    "})\n",
    "\n",
    "# 计算相关性\n",
    "correlation = df_factors.corr()\n",
    "\n",
    "print(correlation)\n"
   ]
  }
 ],
 "metadata": {
  "kernelspec": {
   "display_name": "Python 3",
   "language": "python",
   "name": "python3"
  },
  "language_info": {
   "codemirror_mode": {
    "name": "ipython",
    "version": 3
   },
   "file_extension": ".py",
   "mimetype": "text/x-python",
   "name": "python",
   "nbconvert_exporter": "python",
   "pygments_lexer": "ipython3",
   "version": "3.7.4"
  }
 },
 "nbformat": 4,
 "nbformat_minor": 2
}
